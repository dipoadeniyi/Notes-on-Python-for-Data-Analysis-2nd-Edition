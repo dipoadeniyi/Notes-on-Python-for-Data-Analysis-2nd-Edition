{
  "nbformat": 4,
  "nbformat_minor": 0,
  "metadata": {
    "colab": {
      "provenance": [],
      "authorship_tag": "ABX9TyOI7HfTAELktnKzKLLlohCw",
      "include_colab_link": true
    },
    "kernelspec": {
      "name": "python3",
      "display_name": "Python 3"
    },
    "language_info": {
      "name": "python"
    }
  },
  "cells": [
    {
      "cell_type": "markdown",
      "metadata": {
        "id": "view-in-github",
        "colab_type": "text"
      },
      "source": [
        "<a href=\"https://colab.research.google.com/github/dipoadeniyi/Notes-on-Python-for-Data-Analysis-2nd-Edition/blob/master/Online_Learning_Platform.ipynb\" target=\"_parent\"><img src=\"https://colab.research.google.com/assets/colab-badge.svg\" alt=\"Open In Colab\"/></a>"
      ]
    },
    {
      "cell_type": "markdown",
      "source": [
        "https://sqatools.in/python-if-else-practice-programs/"
      ],
      "metadata": {
        "id": "tJPd0WrOl6yG"
      }
    },
    {
      "cell_type": "code",
      "execution_count": null,
      "metadata": {
        "id": "vhbsZLJKl4Gw"
      },
      "outputs": [],
      "source": [
        "#1). Python Program to add two integer values."
      ]
    },
    {
      "cell_type": "markdown",
      "source": [],
      "metadata": {
        "id": "fPouwvfImuxA"
      }
    },
    {
      "cell_type": "code",
      "source": [
        "#2). Python Program to subtract two integer values."
      ],
      "metadata": {
        "id": "02TPY1wamN2V"
      },
      "execution_count": null,
      "outputs": []
    },
    {
      "cell_type": "code",
      "source": [
        "#3). Python program to multiply two numbers."
      ],
      "metadata": {
        "id": "F7pdTX3pmjhg"
      },
      "execution_count": null,
      "outputs": []
    },
    {
      "cell_type": "markdown",
      "source": [
        "If else program to assign grades as per total marks.\n",
        "marks > 40: Fail\n",
        "marks 40 – 50: grade C\n",
        "marks 50 – 60: grade B\n",
        "marks 60 – 70: grade A\n",
        "marks 70 – 80: grade A+\n",
        "marks 80 – 90: grade A++\n",
        "marks 90 – 100: grade Excellent\n",
        "marks > 100: Invalid marks"
      ],
      "metadata": {
        "id": "xXVojznOMljr"
      }
    },
    {
      "cell_type": "code",
      "source": [
        "#Python program to check the given number divided by 3 and 5."
      ],
      "metadata": {
        "id": "bLN3d97Nnn54"
      },
      "execution_count": 1,
      "outputs": []
    }
  ]
}